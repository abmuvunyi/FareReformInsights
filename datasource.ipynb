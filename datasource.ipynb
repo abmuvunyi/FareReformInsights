{
 "cells": [
  {
   "metadata": {
    "ExecuteTime": {
     "end_time": "2025-05-19T07:02:59.199312Z",
     "start_time": "2025-05-19T07:02:50.446175Z"
    }
   },
   "cell_type": "code",
   "source": [
    "import requests\n",
    "import pandas as pd\n",
    "import time\n",
    "from langdetect import detect\n",
    "\n",
    "# --- Twitter API Setup ---\n",
    "BEARER_TOKEN = 'AAAAAAAAAAAAAAAAAAAAAKEq1wEAAAAAYhfmwZJz856UCB5qRAsJSL3e6YA%3De3nuxkHSWfEFpuUZ9wTnM9EdvuhOXXRdnfRJsyuXOuPkpfavyw'\n",
    "headers = {'Authorization': f'Bearer {BEARER_TOKEN}'}\n",
    "search_url = 'https://api.twitter.com/2/tweets/search/recent'\n",
    "\n",
    "# --- Query Parameters ---\n",
    "query = '(transport OR fare OR public transport) Rwanda'\n",
    "params = {\n",
    "    'query': query,\n",
    "    'max_results': 100,\n",
    "    'tweet.fields': 'created_at,text,author_id,lang'\n",
    "}\n",
    "\n",
    "all_tweets = []\n",
    "next_token = None\n",
    "\n",
    "# --- Fetch Tweets with Pagination and Retry ---\n",
    "for _ in range(10):  # up to ~1000 tweets\n",
    "    if next_token:\n",
    "        params['next_token'] = next_token\n",
    "\n",
    "    response = requests.get(search_url, headers=headers, params=params)\n",
    "\n",
    "    if response.status_code == 429:\n",
    "        print(\"Rate limit hit. Waiting 15 minutes...\")\n",
    "        time.sleep(15 * 60)\n",
    "        continue\n",
    "\n",
    "    result = response.json()\n",
    "\n",
    "    if 'data' in result:\n",
    "        all_tweets.extend(result['data'])\n",
    "    else:\n",
    "        print(\"No data returned:\", result)\n",
    "        break\n",
    "\n",
    "    next_token = result.get('meta', {}).get('next_token')\n",
    "    if not next_token:\n",
    "        break\n",
    "\n",
    "    time.sleep(1)\n",
    "\n",
    "# --- Convert to DataFrame ---\n",
    "df = pd.DataFrame(all_tweets)\n",
    "\n",
    "if df.empty:\n",
    "    print(\"No tweets collected.\")\n",
    "else:\n",
    "    # --- Language Filtering ---\n",
    "    df[\"lang\"] = df[\"text\"].apply(lambda x: detect(x) if isinstance(x, str) else \"unknown\")\n",
    "    df = df[df[\"lang\"] == \"en\"]\n",
    "\n",
    "    # --- Cleanup and Save ---\n",
    "    df.rename(columns={'created_at': 'date', 'author_id': 'user'}, inplace=True)\n",
    "    df = df[[\"date\", \"user\", \"text\"]]\n",
    "    df.to_csv(\"data/expanded_tweets.csv\", index=False)\n",
    "    print(f\"✅ Saved {len(df)} English tweets to data/expanded_tweets.csv\")\n",
    "\n",
    "    print(df.head())\n"
   ],
   "id": "f3b5ba10dbcc37a4",
   "outputs": [
    {
     "name": "stdout",
     "output_type": "stream",
     "text": [
      "Rate limit hit. Waiting 15 minutes...\n"
     ]
    },
    {
     "ename": "KeyboardInterrupt",
     "evalue": "",
     "output_type": "error",
     "traceback": [
      "\u001B[0;31m---------------------------------------------------------------------------\u001B[0m",
      "\u001B[0;31mKeyboardInterrupt\u001B[0m                         Traceback (most recent call last)",
      "Cell \u001B[0;32mIn[26], line 31\u001B[0m\n\u001B[1;32m     29\u001B[0m \u001B[38;5;28;01mif\u001B[39;00m response\u001B[38;5;241m.\u001B[39mstatus_code \u001B[38;5;241m==\u001B[39m \u001B[38;5;241m429\u001B[39m:\n\u001B[1;32m     30\u001B[0m     \u001B[38;5;28mprint\u001B[39m(\u001B[38;5;124m\"\u001B[39m\u001B[38;5;124mRate limit hit. Waiting 15 minutes...\u001B[39m\u001B[38;5;124m\"\u001B[39m)\n\u001B[0;32m---> 31\u001B[0m     \u001B[43mtime\u001B[49m\u001B[38;5;241;43m.\u001B[39;49m\u001B[43msleep\u001B[49m\u001B[43m(\u001B[49m\u001B[38;5;241;43m15\u001B[39;49m\u001B[43m \u001B[49m\u001B[38;5;241;43m*\u001B[39;49m\u001B[43m \u001B[49m\u001B[38;5;241;43m60\u001B[39;49m\u001B[43m)\u001B[49m\n\u001B[1;32m     32\u001B[0m     \u001B[38;5;28;01mcontinue\u001B[39;00m\n\u001B[1;32m     34\u001B[0m result \u001B[38;5;241m=\u001B[39m response\u001B[38;5;241m.\u001B[39mjson()\n",
      "\u001B[0;31mKeyboardInterrupt\u001B[0m: "
     ]
    }
   ],
   "execution_count": 26
  },
  {
   "metadata": {
    "ExecuteTime": {
     "end_time": "2025-05-19T06:57:09.923910Z",
     "start_time": "2025-05-19T06:56:56.173360Z"
    }
   },
   "cell_type": "code",
   "source": [
    "import requests\n",
    "import pandas as pd\n",
    "import time\n",
    "import re\n",
    "from langdetect import detect\n",
    "from deep_translator import GoogleTranslator\n",
    "\n",
    "# --- Twitter API Setup ---\n",
    "BEARER_TOKEN = 'AAAAAAAAAAAAAAAAAAAAAKEq1wEAAAAAYhfmwZJz856UCB5qRAsJSL3e6YA%3De3nuxkHSWfEFpuUZ9wTnM9EdvuhOXXRdnfRJsyuXOuPkpfavyw'\n",
    "headers = {'Authorization': f'Bearer {BEARER_TOKEN}'}\n",
    "search_url = 'https://api.twitter.com/2/tweets/search/recent'\n",
    "\n",
    "# --- Query Parameters ---\n",
    "query = '(\"transport fare\" OR \"bus fare\" OR \"fare increase\" OR \"distance based fare\") Rwanda'\n",
    "params = {\n",
    "    'query': query,\n",
    "    'max_results': 100,\n",
    "    'tweet.fields': 'created_at,text,author_id,lang'\n",
    "}\n",
    "\n",
    "MAX_TWEETS = 30\n",
    "all_tweets = []\n",
    "next_token = None\n",
    "\n",
    "# --- Country Filter: Drop tweets mentioning other countries ---\n",
    "EXCLUDE_COUNTRIES = [\n",
    "    'kenya', 'uganda', 'tanzania', 'nigeria', 'ghana', 'ethiopia', 'congo',\n",
    "    'burundi', 'zimbabwe', 'south africa', 'zambia', 'somalia', 'mali', 'senegal',\n",
    "    'morocco', 'algeria', 'libya', 'cameroon', 'angola', 'botswana', 'sudan',\n",
    "    'egypt', 'tunisia', 'malawi', 'namibia'\n",
    "]\n",
    "\n",
    "def mentions_other_country(text):\n",
    "    text_lower = text.lower()\n",
    "    return any(country in text_lower for country in EXCLUDE_COUNTRIES)\n",
    "\n",
    "# --- Fetch Tweets with Pagination and Retry ---\n",
    "while len(all_tweets) < MAX_TWEETS:\n",
    "    if next_token:\n",
    "        params['next_token'] = next_token\n",
    "\n",
    "    response = requests.get(search_url, headers=headers, params=params)\n",
    "\n",
    "    if response.status_code == 429:\n",
    "        print(\"Rate limit hit. Waiting 15 minutes...\")\n",
    "        time.sleep(15 * 60)\n",
    "        continue\n",
    "\n",
    "    result = response.json()\n",
    "\n",
    "    if 'data' in result:\n",
    "        batch = result['data']\n",
    "        all_tweets.extend(batch)\n",
    "        if len(all_tweets) >= MAX_TWEETS:\n",
    "            break\n",
    "    else:\n",
    "        print(\"No data returned:\", result)\n",
    "        break\n",
    "\n",
    "    next_token = result.get('meta', {}).get('next_token')\n",
    "    if not next_token:\n",
    "        break\n",
    "\n",
    "    time.sleep(1)\n",
    "\n",
    "# --- Convert to DataFrame ---\n",
    "df = pd.DataFrame(all_tweets)\n",
    "\n",
    "if df.empty:\n",
    "    print(\"No tweets collected.\")\n",
    "else:\n",
    "    # Remove tweets that mention other countries\n",
    "    df = df[~df[\"text\"].apply(mentions_other_country)]\n",
    "\n",
    "    # Language Detection\n",
    "    df[\"lang\"] = df[\"text\"].apply(lambda x: detect(x) if isinstance(x, str) else \"unknown\")\n",
    "\n",
    "    # Separate by language\n",
    "    df_en = df[df[\"lang\"] == \"en\"].copy()\n",
    "    df_rw = df[df[\"lang\"] == \"rw\"].copy()\n",
    "\n",
    "    # Translate Kinyarwanda tweets\n",
    "    def safe_translate(text):\n",
    "        try:\n",
    "            return GoogleTranslator(source='auto', target='en').translate(text)\n",
    "        except Exception as e:\n",
    "            print(\"Translation error:\", e)\n",
    "            return \"\"\n",
    "\n",
    "    if not df_rw.empty:\n",
    "        print(f\"Translating {len(df_rw)} Kinyarwanda tweets...\")\n",
    "        df_rw[\"translated_text\"] = df_rw[\"text\"].apply(safe_translate)\n",
    "    else:\n",
    "        df_rw[\"translated_text\"] = []\n",
    "\n",
    "    # English tweets don’t need translation\n",
    "    df_en[\"translated_text\"] = df_en[\"text\"]\n",
    "\n",
    "    # Merge and clean\n",
    "    final_df = pd.concat([df_en, df_rw], ignore_index=True)\n",
    "    final_df.rename(columns={'created_at': 'date', 'author_id': 'user'}, inplace=True)\n",
    "    final_df = final_df[[\"date\", \"user\", \"text\", \"translated_text\", \"lang\"]]\n",
    "    final_df[\"date\"] = pd.to_datetime(final_df[\"date\"]).dt.tz_localize(None)\n",
    "\n",
    "    final_df.to_csv(\"data/expanded_tweets.csv\", index=False)\n",
    "    print(f\"✅ Saved {len(final_df)} tweets after filtering.\")\n",
    "    print(final_df.head())\n"
   ],
   "id": "60617d1fa1302a6f",
   "outputs": [
    {
     "name": "stdout",
     "output_type": "stream",
     "text": [
      "Rate limit hit. Waiting 15 minutes...\n"
     ]
    },
    {
     "ename": "KeyboardInterrupt",
     "evalue": "",
     "output_type": "error",
     "traceback": [
      "\u001B[0;31m---------------------------------------------------------------------------\u001B[0m",
      "\u001B[0;31mKeyboardInterrupt\u001B[0m                         Traceback (most recent call last)",
      "Cell \u001B[0;32mIn[25], line 46\u001B[0m\n\u001B[1;32m     44\u001B[0m \u001B[38;5;28;01mif\u001B[39;00m response\u001B[38;5;241m.\u001B[39mstatus_code \u001B[38;5;241m==\u001B[39m \u001B[38;5;241m429\u001B[39m:\n\u001B[1;32m     45\u001B[0m     \u001B[38;5;28mprint\u001B[39m(\u001B[38;5;124m\"\u001B[39m\u001B[38;5;124mRate limit hit. Waiting 15 minutes...\u001B[39m\u001B[38;5;124m\"\u001B[39m)\n\u001B[0;32m---> 46\u001B[0m     \u001B[43mtime\u001B[49m\u001B[38;5;241;43m.\u001B[39;49m\u001B[43msleep\u001B[49m\u001B[43m(\u001B[49m\u001B[38;5;241;43m15\u001B[39;49m\u001B[43m \u001B[49m\u001B[38;5;241;43m*\u001B[39;49m\u001B[43m \u001B[49m\u001B[38;5;241;43m60\u001B[39;49m\u001B[43m)\u001B[49m\n\u001B[1;32m     47\u001B[0m     \u001B[38;5;28;01mcontinue\u001B[39;00m\n\u001B[1;32m     49\u001B[0m result \u001B[38;5;241m=\u001B[39m response\u001B[38;5;241m.\u001B[39mjson()\n",
      "\u001B[0;31mKeyboardInterrupt\u001B[0m: "
     ]
    }
   ],
   "execution_count": 25
  },
  {
   "metadata": {
    "ExecuteTime": {
     "end_time": "2025-05-18T19:11:29.005110Z",
     "start_time": "2025-05-18T19:11:26.811268Z"
    }
   },
   "cell_type": "code",
   "source": "!pip install deep_translator\n",
   "id": "5e50ada97b7d2c94",
   "outputs": [
    {
     "name": "stdout",
     "output_type": "stream",
     "text": [
      "Collecting deep_translator\r\n",
      "  Downloading deep_translator-1.11.4-py3-none-any.whl.metadata (30 kB)\r\n",
      "Requirement already satisfied: beautifulsoup4<5.0.0,>=4.9.1 in /opt/anaconda3/envs/sentiment_env/lib/python3.10/site-packages (from deep_translator) (4.13.4)\r\n",
      "Requirement already satisfied: requests<3.0.0,>=2.23.0 in /opt/anaconda3/envs/sentiment_env/lib/python3.10/site-packages (from deep_translator) (2.32.3)\r\n",
      "Requirement already satisfied: soupsieve>1.2 in /opt/anaconda3/envs/sentiment_env/lib/python3.10/site-packages (from beautifulsoup4<5.0.0,>=4.9.1->deep_translator) (2.7)\r\n",
      "Requirement already satisfied: typing-extensions>=4.0.0 in /opt/anaconda3/envs/sentiment_env/lib/python3.10/site-packages (from beautifulsoup4<5.0.0,>=4.9.1->deep_translator) (4.13.2)\r\n",
      "Requirement already satisfied: charset-normalizer<4,>=2 in /opt/anaconda3/envs/sentiment_env/lib/python3.10/site-packages (from requests<3.0.0,>=2.23.0->deep_translator) (3.4.2)\r\n",
      "Requirement already satisfied: idna<4,>=2.5 in /opt/anaconda3/envs/sentiment_env/lib/python3.10/site-packages (from requests<3.0.0,>=2.23.0->deep_translator) (3.10)\r\n",
      "Requirement already satisfied: urllib3<3,>=1.21.1 in /opt/anaconda3/envs/sentiment_env/lib/python3.10/site-packages (from requests<3.0.0,>=2.23.0->deep_translator) (2.4.0)\r\n",
      "Requirement already satisfied: certifi>=2017.4.17 in /opt/anaconda3/envs/sentiment_env/lib/python3.10/site-packages (from requests<3.0.0,>=2.23.0->deep_translator) (2025.4.26)\r\n",
      "Downloading deep_translator-1.11.4-py3-none-any.whl (42 kB)\r\n",
      "Installing collected packages: deep_translator\r\n",
      "Successfully installed deep_translator-1.11.4\r\n"
     ]
    }
   ],
   "execution_count": 19
  },
  {
   "metadata": {
    "ExecuteTime": {
     "end_time": "2025-05-19T07:18:32.470254Z",
     "start_time": "2025-05-19T07:18:31.890400Z"
    }
   },
   "cell_type": "code",
   "source": [
    "import tweepy\n",
    "import pandas as pd\n",
    "\n",
    "# Replace with your own credentials\n",
    "bearer_token = 'AAAAAAAAAAAAAAAAAAAAAKEq1wEAAAAAYhfmwZJz856UCB5qRAsJSL3e6YA%3De3nuxkHSWfEFpuUZ9wTnM9EdvuhOXXRdnfRJsyuXOuPkpfavyw'\n",
    "\n",
    "client = tweepy.Client(bearer_token=bearer_token)\n",
    "\n",
    "query = '(\"transport fare\" OR \"bus fare\" OR \"fare increase\" OR \"distance based fare\") Rwanda -is:retweet'\n",
    "tweets = client.search_recent_tweets(query=query, tweet_fields=['created_at', 'text', 'author_id', 'lang'], max_results=100)\n",
    "\n",
    "data = []\n",
    "for tweet in tweets.data:\n",
    "    data.append({\n",
    "        'date': tweet.created_at,\n",
    "        'user': tweet.author_id,\n",
    "        'text': tweet.text,\n",
    "        'lang': tweet.lang\n",
    "    })\n",
    "\n",
    "df = pd.DataFrame(data)\n",
    "df.to_csv('transport_fare_tweets.csv', index=False)\n"
   ],
   "id": "6cb51faa0ca147ec",
   "outputs": [
    {
     "ename": "TooManyRequests",
     "evalue": "429 Too Many Requests\nUsage cap exceeded: Monthly product cap",
     "output_type": "error",
     "traceback": [
      "\u001B[0;31m---------------------------------------------------------------------------\u001B[0m",
      "\u001B[0;31mTooManyRequests\u001B[0m                           Traceback (most recent call last)",
      "Cell \u001B[0;32mIn[30], line 10\u001B[0m\n\u001B[1;32m      7\u001B[0m client \u001B[38;5;241m=\u001B[39m tweepy\u001B[38;5;241m.\u001B[39mClient(bearer_token\u001B[38;5;241m=\u001B[39mbearer_token)\n\u001B[1;32m      9\u001B[0m query \u001B[38;5;241m=\u001B[39m \u001B[38;5;124m'\u001B[39m\u001B[38;5;124m(\u001B[39m\u001B[38;5;124m\"\u001B[39m\u001B[38;5;124mtransport fare\u001B[39m\u001B[38;5;124m\"\u001B[39m\u001B[38;5;124m OR \u001B[39m\u001B[38;5;124m\"\u001B[39m\u001B[38;5;124mbus fare\u001B[39m\u001B[38;5;124m\"\u001B[39m\u001B[38;5;124m OR \u001B[39m\u001B[38;5;124m\"\u001B[39m\u001B[38;5;124mfare increase\u001B[39m\u001B[38;5;124m\"\u001B[39m\u001B[38;5;124m OR \u001B[39m\u001B[38;5;124m\"\u001B[39m\u001B[38;5;124mdistance based fare\u001B[39m\u001B[38;5;124m\"\u001B[39m\u001B[38;5;124m) Rwanda -is:retweet\u001B[39m\u001B[38;5;124m'\u001B[39m\n\u001B[0;32m---> 10\u001B[0m tweets \u001B[38;5;241m=\u001B[39m \u001B[43mclient\u001B[49m\u001B[38;5;241;43m.\u001B[39;49m\u001B[43msearch_recent_tweets\u001B[49m\u001B[43m(\u001B[49m\u001B[43mquery\u001B[49m\u001B[38;5;241;43m=\u001B[39;49m\u001B[43mquery\u001B[49m\u001B[43m,\u001B[49m\u001B[43m \u001B[49m\u001B[43mtweet_fields\u001B[49m\u001B[38;5;241;43m=\u001B[39;49m\u001B[43m[\u001B[49m\u001B[38;5;124;43m'\u001B[39;49m\u001B[38;5;124;43mcreated_at\u001B[39;49m\u001B[38;5;124;43m'\u001B[39;49m\u001B[43m,\u001B[49m\u001B[43m \u001B[49m\u001B[38;5;124;43m'\u001B[39;49m\u001B[38;5;124;43mtext\u001B[39;49m\u001B[38;5;124;43m'\u001B[39;49m\u001B[43m,\u001B[49m\u001B[43m \u001B[49m\u001B[38;5;124;43m'\u001B[39;49m\u001B[38;5;124;43mauthor_id\u001B[39;49m\u001B[38;5;124;43m'\u001B[39;49m\u001B[43m,\u001B[49m\u001B[43m \u001B[49m\u001B[38;5;124;43m'\u001B[39;49m\u001B[38;5;124;43mlang\u001B[39;49m\u001B[38;5;124;43m'\u001B[39;49m\u001B[43m]\u001B[49m\u001B[43m,\u001B[49m\u001B[43m \u001B[49m\u001B[43mmax_results\u001B[49m\u001B[38;5;241;43m=\u001B[39;49m\u001B[38;5;241;43m100\u001B[39;49m\u001B[43m)\u001B[49m\n\u001B[1;32m     12\u001B[0m data \u001B[38;5;241m=\u001B[39m []\n\u001B[1;32m     13\u001B[0m \u001B[38;5;28;01mfor\u001B[39;00m tweet \u001B[38;5;129;01min\u001B[39;00m tweets\u001B[38;5;241m.\u001B[39mdata:\n",
      "File \u001B[0;32m/opt/anaconda3/envs/sentiment_env/lib/python3.10/site-packages/tweepy/client.py:1270\u001B[0m, in \u001B[0;36mClient.search_recent_tweets\u001B[0;34m(self, query, user_auth, **params)\u001B[0m\n\u001B[1;32m   1178\u001B[0m \u001B[38;5;250m\u001B[39m\u001B[38;5;124;03m\"\"\"search_recent_tweets( \\\u001B[39;00m\n\u001B[1;32m   1179\u001B[0m \u001B[38;5;124;03m    query, *, end_time=None, expansions=None, max_results=None, \\\u001B[39;00m\n\u001B[1;32m   1180\u001B[0m \u001B[38;5;124;03m    media_fields=None, next_token=None, place_fields=None, \\\u001B[39;00m\n\u001B[0;32m   (...)\u001B[0m\n\u001B[1;32m   1267\u001B[0m \u001B[38;5;124;03m.. _Academic Research Project: https://developer.twitter.com/en/docs/projects\u001B[39;00m\n\u001B[1;32m   1268\u001B[0m \u001B[38;5;124;03m\"\"\"\u001B[39;00m\n\u001B[1;32m   1269\u001B[0m params[\u001B[38;5;124m\"\u001B[39m\u001B[38;5;124mquery\u001B[39m\u001B[38;5;124m\"\u001B[39m] \u001B[38;5;241m=\u001B[39m query\n\u001B[0;32m-> 1270\u001B[0m \u001B[38;5;28;01mreturn\u001B[39;00m \u001B[38;5;28;43mself\u001B[39;49m\u001B[38;5;241;43m.\u001B[39;49m\u001B[43m_make_request\u001B[49m\u001B[43m(\u001B[49m\n\u001B[1;32m   1271\u001B[0m \u001B[43m    \u001B[49m\u001B[38;5;124;43m\"\u001B[39;49m\u001B[38;5;124;43mGET\u001B[39;49m\u001B[38;5;124;43m\"\u001B[39;49m\u001B[43m,\u001B[49m\u001B[43m \u001B[49m\u001B[38;5;124;43m\"\u001B[39;49m\u001B[38;5;124;43m/2/tweets/search/recent\u001B[39;49m\u001B[38;5;124;43m\"\u001B[39;49m\u001B[43m,\u001B[49m\u001B[43m \u001B[49m\u001B[43mparams\u001B[49m\u001B[38;5;241;43m=\u001B[39;49m\u001B[43mparams\u001B[49m\u001B[43m,\u001B[49m\n\u001B[1;32m   1272\u001B[0m \u001B[43m    \u001B[49m\u001B[43mendpoint_parameters\u001B[49m\u001B[38;5;241;43m=\u001B[39;49m\u001B[43m(\u001B[49m\n\u001B[1;32m   1273\u001B[0m \u001B[43m        \u001B[49m\u001B[38;5;124;43m\"\u001B[39;49m\u001B[38;5;124;43mend_time\u001B[39;49m\u001B[38;5;124;43m\"\u001B[39;49m\u001B[43m,\u001B[49m\u001B[43m \u001B[49m\u001B[38;5;124;43m\"\u001B[39;49m\u001B[38;5;124;43mexpansions\u001B[39;49m\u001B[38;5;124;43m\"\u001B[39;49m\u001B[43m,\u001B[49m\u001B[43m \u001B[49m\u001B[38;5;124;43m\"\u001B[39;49m\u001B[38;5;124;43mmax_results\u001B[39;49m\u001B[38;5;124;43m\"\u001B[39;49m\u001B[43m,\u001B[49m\u001B[43m \u001B[49m\u001B[38;5;124;43m\"\u001B[39;49m\u001B[38;5;124;43mmedia.fields\u001B[39;49m\u001B[38;5;124;43m\"\u001B[39;49m\u001B[43m,\u001B[49m\n\u001B[1;32m   1274\u001B[0m \u001B[43m        \u001B[49m\u001B[38;5;124;43m\"\u001B[39;49m\u001B[38;5;124;43mnext_token\u001B[39;49m\u001B[38;5;124;43m\"\u001B[39;49m\u001B[43m,\u001B[49m\u001B[43m \u001B[49m\u001B[38;5;124;43m\"\u001B[39;49m\u001B[38;5;124;43mplace.fields\u001B[39;49m\u001B[38;5;124;43m\"\u001B[39;49m\u001B[43m,\u001B[49m\u001B[43m \u001B[49m\u001B[38;5;124;43m\"\u001B[39;49m\u001B[38;5;124;43mpoll.fields\u001B[39;49m\u001B[38;5;124;43m\"\u001B[39;49m\u001B[43m,\u001B[49m\u001B[43m \u001B[49m\u001B[38;5;124;43m\"\u001B[39;49m\u001B[38;5;124;43mquery\u001B[39;49m\u001B[38;5;124;43m\"\u001B[39;49m\u001B[43m,\u001B[49m\n\u001B[1;32m   1275\u001B[0m \u001B[43m        \u001B[49m\u001B[38;5;124;43m\"\u001B[39;49m\u001B[38;5;124;43msince_id\u001B[39;49m\u001B[38;5;124;43m\"\u001B[39;49m\u001B[43m,\u001B[49m\u001B[43m \u001B[49m\u001B[38;5;124;43m\"\u001B[39;49m\u001B[38;5;124;43msort_order\u001B[39;49m\u001B[38;5;124;43m\"\u001B[39;49m\u001B[43m,\u001B[49m\u001B[43m \u001B[49m\u001B[38;5;124;43m\"\u001B[39;49m\u001B[38;5;124;43mstart_time\u001B[39;49m\u001B[38;5;124;43m\"\u001B[39;49m\u001B[43m,\u001B[49m\u001B[43m \u001B[49m\u001B[38;5;124;43m\"\u001B[39;49m\u001B[38;5;124;43mtweet.fields\u001B[39;49m\u001B[38;5;124;43m\"\u001B[39;49m\u001B[43m,\u001B[49m\n\u001B[1;32m   1276\u001B[0m \u001B[43m        \u001B[49m\u001B[38;5;124;43m\"\u001B[39;49m\u001B[38;5;124;43muntil_id\u001B[39;49m\u001B[38;5;124;43m\"\u001B[39;49m\u001B[43m,\u001B[49m\u001B[43m \u001B[49m\u001B[38;5;124;43m\"\u001B[39;49m\u001B[38;5;124;43muser.fields\u001B[39;49m\u001B[38;5;124;43m\"\u001B[39;49m\n\u001B[1;32m   1277\u001B[0m \u001B[43m    \u001B[49m\u001B[43m)\u001B[49m\u001B[43m,\u001B[49m\u001B[43m \u001B[49m\u001B[43mdata_type\u001B[49m\u001B[38;5;241;43m=\u001B[39;49m\u001B[43mTweet\u001B[49m\u001B[43m,\u001B[49m\u001B[43m \u001B[49m\u001B[43muser_auth\u001B[49m\u001B[38;5;241;43m=\u001B[39;49m\u001B[43muser_auth\u001B[49m\n\u001B[1;32m   1278\u001B[0m \u001B[43m\u001B[49m\u001B[43m)\u001B[49m\n",
      "File \u001B[0;32m/opt/anaconda3/envs/sentiment_env/lib/python3.10/site-packages/tweepy/client.py:129\u001B[0m, in \u001B[0;36mBaseClient._make_request\u001B[0;34m(self, method, route, params, endpoint_parameters, json, data_type, user_auth)\u001B[0m\n\u001B[1;32m    123\u001B[0m \u001B[38;5;28;01mdef\u001B[39;00m\u001B[38;5;250m \u001B[39m\u001B[38;5;21m_make_request\u001B[39m(\n\u001B[1;32m    124\u001B[0m     \u001B[38;5;28mself\u001B[39m, method, route, params\u001B[38;5;241m=\u001B[39m{}, endpoint_parameters\u001B[38;5;241m=\u001B[39m(), json\u001B[38;5;241m=\u001B[39m\u001B[38;5;28;01mNone\u001B[39;00m,\n\u001B[1;32m    125\u001B[0m     data_type\u001B[38;5;241m=\u001B[39m\u001B[38;5;28;01mNone\u001B[39;00m, user_auth\u001B[38;5;241m=\u001B[39m\u001B[38;5;28;01mFalse\u001B[39;00m\n\u001B[1;32m    126\u001B[0m ):\n\u001B[1;32m    127\u001B[0m     request_params \u001B[38;5;241m=\u001B[39m \u001B[38;5;28mself\u001B[39m\u001B[38;5;241m.\u001B[39m_process_params(params, endpoint_parameters)\n\u001B[0;32m--> 129\u001B[0m     response \u001B[38;5;241m=\u001B[39m \u001B[38;5;28;43mself\u001B[39;49m\u001B[38;5;241;43m.\u001B[39;49m\u001B[43mrequest\u001B[49m\u001B[43m(\u001B[49m\u001B[43mmethod\u001B[49m\u001B[43m,\u001B[49m\u001B[43m \u001B[49m\u001B[43mroute\u001B[49m\u001B[43m,\u001B[49m\u001B[43m \u001B[49m\u001B[43mparams\u001B[49m\u001B[38;5;241;43m=\u001B[39;49m\u001B[43mrequest_params\u001B[49m\u001B[43m,\u001B[49m\n\u001B[1;32m    130\u001B[0m \u001B[43m                            \u001B[49m\u001B[43mjson\u001B[49m\u001B[38;5;241;43m=\u001B[39;49m\u001B[43mjson\u001B[49m\u001B[43m,\u001B[49m\u001B[43m \u001B[49m\u001B[43muser_auth\u001B[49m\u001B[38;5;241;43m=\u001B[39;49m\u001B[43muser_auth\u001B[49m\u001B[43m)\u001B[49m\n\u001B[1;32m    132\u001B[0m     \u001B[38;5;28;01mif\u001B[39;00m \u001B[38;5;28mself\u001B[39m\u001B[38;5;241m.\u001B[39mreturn_type \u001B[38;5;129;01mis\u001B[39;00m requests\u001B[38;5;241m.\u001B[39mResponse:\n\u001B[1;32m    133\u001B[0m         \u001B[38;5;28;01mreturn\u001B[39;00m response\n",
      "File \u001B[0;32m/opt/anaconda3/envs/sentiment_env/lib/python3.10/site-packages/tweepy/client.py:115\u001B[0m, in \u001B[0;36mBaseClient.request\u001B[0;34m(self, method, route, params, json, user_auth)\u001B[0m\n\u001B[1;32m    113\u001B[0m         \u001B[38;5;28;01mreturn\u001B[39;00m \u001B[38;5;28mself\u001B[39m\u001B[38;5;241m.\u001B[39mrequest(method, route, params, json, user_auth)\n\u001B[1;32m    114\u001B[0m     \u001B[38;5;28;01melse\u001B[39;00m:\n\u001B[0;32m--> 115\u001B[0m         \u001B[38;5;28;01mraise\u001B[39;00m TooManyRequests(response)\n\u001B[1;32m    116\u001B[0m \u001B[38;5;28;01mif\u001B[39;00m response\u001B[38;5;241m.\u001B[39mstatus_code \u001B[38;5;241m>\u001B[39m\u001B[38;5;241m=\u001B[39m \u001B[38;5;241m500\u001B[39m:\n\u001B[1;32m    117\u001B[0m     \u001B[38;5;28;01mraise\u001B[39;00m TwitterServerError(response)\n",
      "\u001B[0;31mTooManyRequests\u001B[0m: 429 Too Many Requests\nUsage cap exceeded: Monthly product cap"
     ]
    }
   ],
   "execution_count": 30
  },
  {
   "metadata": {
    "ExecuteTime": {
     "end_time": "2025-05-19T07:17:35.173307Z",
     "start_time": "2025-05-19T07:17:32.811885Z"
    }
   },
   "cell_type": "code",
   "source": "!pip install tweepy",
   "id": "539b267c10257873",
   "outputs": [
    {
     "name": "stdout",
     "output_type": "stream",
     "text": [
      "Collecting tweepy\r\n",
      "  Downloading tweepy-4.15.0-py3-none-any.whl.metadata (4.1 kB)\r\n",
      "Collecting oauthlib<4,>=3.2.0 (from tweepy)\r\n",
      "  Downloading oauthlib-3.2.2-py3-none-any.whl.metadata (7.5 kB)\r\n",
      "Requirement already satisfied: requests<3,>=2.27.0 in /opt/anaconda3/envs/sentiment_env/lib/python3.10/site-packages (from tweepy) (2.32.3)\r\n",
      "Collecting requests-oauthlib<3,>=1.2.0 (from tweepy)\r\n",
      "  Downloading requests_oauthlib-2.0.0-py2.py3-none-any.whl.metadata (11 kB)\r\n",
      "Requirement already satisfied: charset-normalizer<4,>=2 in /opt/anaconda3/envs/sentiment_env/lib/python3.10/site-packages (from requests<3,>=2.27.0->tweepy) (3.4.2)\r\n",
      "Requirement already satisfied: idna<4,>=2.5 in /opt/anaconda3/envs/sentiment_env/lib/python3.10/site-packages (from requests<3,>=2.27.0->tweepy) (3.10)\r\n",
      "Requirement already satisfied: urllib3<3,>=1.21.1 in /opt/anaconda3/envs/sentiment_env/lib/python3.10/site-packages (from requests<3,>=2.27.0->tweepy) (2.4.0)\r\n",
      "Requirement already satisfied: certifi>=2017.4.17 in /opt/anaconda3/envs/sentiment_env/lib/python3.10/site-packages (from requests<3,>=2.27.0->tweepy) (2025.4.26)\r\n",
      "Downloading tweepy-4.15.0-py3-none-any.whl (99 kB)\r\n",
      "Downloading oauthlib-3.2.2-py3-none-any.whl (151 kB)\r\n",
      "Downloading requests_oauthlib-2.0.0-py2.py3-none-any.whl (24 kB)\r\n",
      "Installing collected packages: oauthlib, requests-oauthlib, tweepy\r\n",
      "\u001B[2K   \u001B[90m━━━━━━━━━━━━━━━━━━━━━━━━━━━━━━━━━━━━━━━━\u001B[0m \u001B[32m3/3\u001B[0m [tweepy]\r\n",
      "\u001B[1A\u001B[2KSuccessfully installed oauthlib-3.2.2 requests-oauthlib-2.0.0 tweepy-4.15.0\r\n"
     ]
    }
   ],
   "execution_count": 28
  },
  {
   "metadata": {},
   "cell_type": "code",
   "outputs": [],
   "execution_count": null,
   "source": "",
   "id": "d38dd112bbead63b"
  }
 ],
 "metadata": {
  "kernelspec": {
   "display_name": "Python 3",
   "language": "python",
   "name": "python3"
  },
  "language_info": {
   "codemirror_mode": {
    "name": "ipython",
    "version": 2
   },
   "file_extension": ".py",
   "mimetype": "text/x-python",
   "name": "python",
   "nbconvert_exporter": "python",
   "pygments_lexer": "ipython2",
   "version": "2.7.6"
  }
 },
 "nbformat": 4,
 "nbformat_minor": 5
}
